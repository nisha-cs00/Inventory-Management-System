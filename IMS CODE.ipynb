{
 "cells": [
  {
   "cell_type": "code",
   "execution_count": 53,
   "id": "6e3f02c9",
   "metadata": {},
   "outputs": [],
   "source": [
    "import json\n",
    "fd = open(\"Records.json\",\"w\")\n",
    "products = {1001:{\"name\" : \"Chocolate\",\"price\" : 40.00,\"manu\" : 2021,\"exp\" : 2022,\"qn\" : 150},\n",
    "            1002:{\"name\" : \"Vanilla Cake\",\"price\" : 235.00,\"manu\" : 2021,\"exp\" : 2021,\"qn\" : 90},\n",
    "            1003:{\"name\" : \"Vanilla Icecream\",\"price\" : 150.00,\"manu\" : 2021,\"exp\" : 2022,\"qn\" : 120}}\n",
    "fd.write(str(products))\n",
    "fd.close()"
   ]
  },
  {
   "cell_type": "code",
   "execution_count": 113,
   "id": "2684f81f",
   "metadata": {},
   "outputs": [
    {
     "name": "stdout",
     "output_type": "stream",
     "text": [
      "Enter the product code: 1036\n",
      "Enter the product name: Mango kulfi\n",
      "Enter the price of product: 35.00\n",
      "Enter the manufactured year: 2021\n",
      "Enter the expiry year: 2022\n",
      "Enter the quantity: 96\n"
     ]
    }
   ],
   "source": [
    "prod_id = int(input(\"Enter the product code: \"))\n",
    "name = input(\"Enter the product name: \")\n",
    "price = float(input(\"Enter the price of product: \"))\n",
    "manu = int(input(\"Enter the manufactured year: \"))\n",
    "exp = int(input(\"Enter the expiry year: \"))\n",
    "qn = int(input(\"Enter the quantity: \"))\n",
    "products[prod_id]={\"name\" : name,\"price\" : price,\"manu\" : manu,\"exp\" : exp,\"qn\" : qn}\n",
    "js = json.dumps(products)\n",
    "\n",
    "fd = open(\"Records.json\",'w')\n",
    "fd.write(js)\n",
    "fd.close()"
   ]
  },
  {
   "cell_type": "code",
   "execution_count": 114,
   "id": "414d6c12",
   "metadata": {},
   "outputs": [
    {
     "data": {
      "text/plain": [
       "{1001: {'name': 'Chocolate',\n",
       "  'price': 40.0,\n",
       "  'manu': 2021,\n",
       "  'exp': 2022,\n",
       "  'qn': 150},\n",
       " 1002: {'name': 'Vanilla Cake',\n",
       "  'price': 235.0,\n",
       "  'manu': 2021,\n",
       "  'exp': 2021,\n",
       "  'qn': 89},\n",
       " 1003: {'name': 'Vanilla Icecream',\n",
       "  'price': 150.0,\n",
       "  'manu': 2021,\n",
       "  'exp': 2022,\n",
       "  'qn': 120},\n",
       " 1006: {'name': 'Orange Jelly',\n",
       "  'price': 69.99,\n",
       "  'manu': 2020,\n",
       "  'exp': 2022,\n",
       "  'qn': 195},\n",
       " 1007: {'name': 'Strawberry Milk',\n",
       "  'price': 35.0,\n",
       "  'manu': 2020,\n",
       "  'exp': 2021,\n",
       "  'qn': 30},\n",
       " 1008: {'name': 'Milk', 'price': 45.99, 'manu': 2021, 'exp': 2021, 'qn': 180},\n",
       " 1009: {'name': 'Choco Bars',\n",
       "  'price': 36.66,\n",
       "  'manu': 2021,\n",
       "  'exp': 2021,\n",
       "  'qn': 240},\n",
       " 1011: {'name': 'White Milk Chocolate',\n",
       "  'price': 55.0,\n",
       "  'manu': 2021,\n",
       "  'exp': 2022,\n",
       "  'qn': 140},\n",
       " 1012: {'name': 'Dark Milk Chocolate',\n",
       "  'price': 65.56,\n",
       "  'manu': 2021,\n",
       "  'exp': 2022,\n",
       "  'qn': 98},\n",
       " 1013: {'name': 'Mix Dark and White Chocolate',\n",
       "  'price': 95.99,\n",
       "  'manu': 2021,\n",
       "  'exp': 2022,\n",
       "  'qn': 120},\n",
       " 1014: {'name': 'Chocolate Cake',\n",
       "  'price': 235.67,\n",
       "  'manu': 2021,\n",
       "  'exp': 2021,\n",
       "  'qn': 90},\n",
       " 1015: {'name': 'Chocolate icecream',\n",
       "  'price': 199.99,\n",
       "  'manu': 2021,\n",
       "  'exp': 2022,\n",
       "  'qn': 156},\n",
       " 1016: {'name': 'Chocochips icecream',\n",
       "  'price': 167.99,\n",
       "  'manu': 2021,\n",
       "  'exp': 2022,\n",
       "  'qn': 134},\n",
       " 1017: {'name': 'Butterscotch icecream',\n",
       "  'price': 200.0,\n",
       "  'manu': 2021,\n",
       "  'exp': 2022,\n",
       "  'qn': 100},\n",
       " 1018: {'name': 'Fruit Bread',\n",
       "  'price': 59.67,\n",
       "  'manu': 2021,\n",
       "  'exp': 2021,\n",
       "  'qn': 80},\n",
       " 1019: {'name': 'Blueberry jam',\n",
       "  'price': 355.55,\n",
       "  'manu': 2018,\n",
       "  'exp': 2022,\n",
       "  'qn': 130},\n",
       " 1021: {'name': 'Nutella',\n",
       "  'price': 500.99,\n",
       "  'manu': 2019,\n",
       "  'exp': 2022,\n",
       "  'qn': 60},\n",
       " 1022: {'name': 'Chocolate sauce',\n",
       "  'price': 65.45,\n",
       "  'manu': 2020,\n",
       "  'exp': 2022,\n",
       "  'qn': 90},\n",
       " 1023: {'name': 'Strawberry sauce',\n",
       "  'price': 80.99,\n",
       "  'manu': 2020,\n",
       "  'exp': 2022,\n",
       "  'qn': 98},\n",
       " 1024: {'name': 'Coffee plum cake',\n",
       "  'price': 398.43,\n",
       "  'manu': 2021,\n",
       "  'exp': 2021,\n",
       "  'qn': 78},\n",
       " 1025: {'name': 'Pineapple cake',\n",
       "  'price': 467.77,\n",
       "  'manu': 2021,\n",
       "  'exp': 2021,\n",
       "  'qn': 95},\n",
       " 1026: {'name': 'Black forest cake',\n",
       "  'price': 378.88,\n",
       "  'manu': 2021,\n",
       "  'exp': 2021,\n",
       "  'qn': 77},\n",
       " 1027: {'name': 'Tutty Fruity',\n",
       "  'price': 57.77,\n",
       "  'manu': 2020,\n",
       "  'exp': 2022,\n",
       "  'qn': 300},\n",
       " 1028: {'name': 'Whipped Cream',\n",
       "  'price': 99.99,\n",
       "  'manu': 2021,\n",
       "  'exp': 2022,\n",
       "  'qn': 250},\n",
       " 1029: {'name': 'Mango Jelly',\n",
       "  'price': 67.78,\n",
       "  'manu': 2020,\n",
       "  'exp': 2022,\n",
       "  'qn': 120},\n",
       " 1031: {'name': 'Kulfi', 'price': 20.0, 'manu': 2021, 'exp': 2021, 'qn': 90},\n",
       " 1032: {'name': 'Malai Kulfi',\n",
       "  'price': 30.0,\n",
       "  'manu': 2021,\n",
       "  'exp': 2022,\n",
       "  'qn': 143},\n",
       " 1033: {'name': 'Dates Kulfi',\n",
       "  'price': 50.0,\n",
       "  'manu': 2021,\n",
       "  'exp': 2022,\n",
       "  'qn': 195},\n",
       " 1034: {'name': 'Dates Honey',\n",
       "  'price': 600.99,\n",
       "  'manu': 2020,\n",
       "  'exp': 2023,\n",
       "  'qn': 54},\n",
       " 1035: {'name': 'Honey', 'price': 569.88, 'manu': 2020, 'exp': 2023, 'qn': 98},\n",
       " 1036: {'name': 'Mango kulfi',\n",
       "  'price': 35.0,\n",
       "  'manu': 2021,\n",
       "  'exp': 2022,\n",
       "  'qn': 96}}"
      ]
     },
     "execution_count": 114,
     "metadata": {},
     "output_type": "execute_result"
    }
   ],
   "source": [
    "products"
   ]
  },
  {
   "cell_type": "code",
   "execution_count": 129,
   "id": "31b2bb88",
   "metadata": {},
   "outputs": [
    {
     "name": "stdout",
     "output_type": "stream",
     "text": [
      "Enter your name :Snehal Maurya\n",
      "Check the code from above given list of products of your choice\n",
      "Enter the code properly\n",
      "Enter the product1 code: 1002\n",
      "Enter the quantity1: 2\n",
      "Enter the product2 code: 1003\n",
      "Enter the quantity2: 3\n",
      "\t\t\t\tTime:  Mon Sep  6 13:48:11 2021\n",
      "****************************************************************************\n",
      "Customer name:  Snehal Maurya\n",
      "Product1:  Vanilla Cake   Price:  235.0\n",
      "Product2:  Vanilla Icecream   Price:  150.0\n",
      "----------------------------------------------------------------------------\n",
      "Billing Amount:  920.0\n",
      "****************************************************************************\n"
     ]
    }
   ],
   "source": [
    "import time\n",
    "cust_name = input(\"Enter your name :\")\n",
    "print(\"Check the code from above given list of products of your choice\")\n",
    "print(\"Enter the code properly\")\n",
    "ui_prod1  = int(input(\"Enter the product1 code: \"))\n",
    "ui_quant1 = int(input(\"Enter the quantity1: \"))\n",
    "ui_prod2  = int(input(\"Enter the product2 code: \"))\n",
    "ui_quant2 = int(input(\"Enter the quantity2: \"))\n",
    "\n",
    "t=time.ctime()\n",
    "total = products[ui_prod1]['price']*ui_quant1+products[ui_prod2]['price']*ui_quant2\n",
    "    \n",
    "print(\"\\t\\t\\t\\tTime: \",t)\n",
    "print(\"****************************************************************************\")\n",
    "print(\"Customer name: \",cust_name)\n",
    "print(\"Product1: \",products[ui_prod1]['name'],\" \",\"Price: \",products[ui_prod1]['price'])\n",
    "print(\"Product2: \",products[ui_prod2]['name'],\" \",\"Price: \",products[ui_prod2]['price'])\n",
    "print(\"----------------------------------------------------------------------------\")\n",
    "print(\"Billing Amount: \",total)\n",
    "print(\"****************************************************************************\")\n",
    "\n",
    "products[ui_prod1]['qn'] = products[ui_prod1]['qn'] - ui_quant1\n",
    "products[ui_prod2]['qn'] = products[ui_prod2]['qn'] - ui_quant2\n"
   ]
  },
  {
   "cell_type": "code",
   "execution_count": 130,
   "id": "605bfa26",
   "metadata": {},
   "outputs": [],
   "source": [
    "js = json.dumps(products)\n",
    "\n",
    "fd = open(\"Purchase.json\",'w')\n",
    "fd.write(js)\n",
    "fd.close()"
   ]
  },
  {
   "cell_type": "code",
   "execution_count": 131,
   "id": "a19091e0",
   "metadata": {},
   "outputs": [],
   "source": [
    "sales = {1:{'product code':ui_prod1,'product name':products[ui_prod1]['name'],'customer name':cust_name,'quantity taken by customer':ui_quant1,'quantity reamin in stock':products[ui_prod1]['qn'],'price paid by customer':products[ui_prod1]['price'] * ui_quant1,'time when product purchased':t},\n",
    "         2:{'product code':ui_prod2,'product name':products[ui_prod2]['name'],'customer name':cust_name,'quantity taken by customer':ui_quant2,'quantity reamin in stock':products[ui_prod2]['qn'],'price paid by customer':products[ui_prod2]['price'] * ui_quant2,'time when product purchased':t}}\n",
    "\n"
   ]
  },
  {
   "cell_type": "code",
   "execution_count": 132,
   "id": "38635edc",
   "metadata": {},
   "outputs": [
    {
     "data": {
      "text/plain": [
       "{1: {'product code': 1002,\n",
       "  'product name': 'Vanilla Cake',\n",
       "  'customer name': 'Snehal Maurya',\n",
       "  'quantity taken by customer': 2,\n",
       "  'quantity reamin in stock': 87,\n",
       "  'price paid by customer': 470.0,\n",
       "  'time when product purchased': 'Mon Sep  6 13:48:11 2021'},\n",
       " 2: {'product code': 1003,\n",
       "  'product name': 'Vanilla Icecream',\n",
       "  'customer name': 'Snehal Maurya',\n",
       "  'quantity taken by customer': 3,\n",
       "  'quantity reamin in stock': 117,\n",
       "  'price paid by customer': 450.0,\n",
       "  'time when product purchased': 'Mon Sep  6 13:48:11 2021'}}"
      ]
     },
     "execution_count": 132,
     "metadata": {},
     "output_type": "execute_result"
    }
   ],
   "source": [
    "sales"
   ]
  },
  {
   "cell_type": "code",
   "execution_count": 133,
   "id": "7a99602c",
   "metadata": {},
   "outputs": [],
   "source": [
    "js = json.dumps(sales)\n",
    "fd = open(\"Sales.json\",'w')\n",
    "fd.write(js)\n",
    "fd.close()"
   ]
  },
  {
   "cell_type": "code",
   "execution_count": null,
   "id": "61bdfb1f",
   "metadata": {},
   "outputs": [],
   "source": []
  },
  {
   "cell_type": "code",
   "execution_count": null,
   "id": "659f4a1b",
   "metadata": {},
   "outputs": [],
   "source": []
  }
 ],
 "metadata": {
  "kernelspec": {
   "display_name": "Python 3",
   "language": "python",
   "name": "python3"
  },
  "language_info": {
   "codemirror_mode": {
    "name": "ipython",
    "version": 3
   },
   "file_extension": ".py",
   "mimetype": "text/x-python",
   "name": "python",
   "nbconvert_exporter": "python",
   "pygments_lexer": "ipython3",
   "version": "3.8.8"
  }
 },
 "nbformat": 4,
 "nbformat_minor": 5
}
